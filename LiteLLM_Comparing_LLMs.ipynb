{
  "cells": [
    {
      "cell_type": "markdown",
      "metadata": {
        "id": "L-W4C3SgClxl"
      },
      "source": [
        "## Comparing LLMs on a Test Set using LiteLLM\n"
      ]
    },
    {
      "cell_type": "code",
      "execution_count": 3,
      "metadata": {
        "id": "tzS-AXWK8lJC"
      },
      "outputs": [],
      "source": [
        "\n",
        "import json\n",
        "import os\n",
        "from litellm import completion\n",
        "from itertools import islice\n",
        "import os\n",
        "\n",
        "os.environ['OPENAI_API_KEY'] = \"\"\n",
        "os.environ['ANTHROPIC_API_KEY'] = \"\"\n",
        "\n"
      ]
    },
    {
      "cell_type": "markdown",
      "metadata": {
        "id": "-HOzUfpK-H8J"
      },
      "source": []
    },
    {
      "cell_type": "code",
      "execution_count": 41,
      "metadata": {
        "id": "DhXwRlc-9DED"
      },
      "outputs": [],
      "source": [
        "\n",
        "models = ['ollama/llama3', 'ollama/mistral'] \n",
        "# define what models you're testing, see: https://docs.litellm.ai/docs/providers\n",
        "\n",
        "prompt = \"\"\"\n",
        "You are a helper bot who is especailly skilled in spatial reasoning and other common sense reasoning tasks.\n",
        "Please answer the questions. You need not explain your answer, just answer \"Yes\" or \"No\" or \"DK(Donot Know)\".\n",
        "\"\"\"\n",
        "\n",
        "results= []\n",
        "\n",
        "with open('/Users/rongwang/Desktop/毕业论文/dataset_spatial/spartqa_yn/spartqa_YN_test.jsonl', 'r') as file:\n",
        "    # Load only the first 100 lines\n",
        "    samples = islice(file, 100) # the other samples = [json.loads(line) for line in file][:100]\n",
        "\n",
        "    for line in samples:\n",
        "        spartYN = json.loads(line)  # Parse the JSON data from each line\n",
        "        context = spartYN['story']  # Directly access the 'story' string\n",
        "        question = spartYN['question']  # Directly access the 'question' string\n",
        "        true_answer = spartYN['answer'].strip()  # Access and strip the 'answer' string\n",
        "        \n",
        "        row = [context, question,true_answer]\n",
        "\n",
        "        for model in models:\n",
        "            response = completion( # using litellm.completion\n",
        "              model=model,\n",
        "              max_tokens=10,\n",
        "              top_p=1,\n",
        "              #verbose=True,\n",
        "              messages=[\n",
        "                {'role': 'system', 'content': prompt},\n",
        "                {'role': 'user', 'content': context+ question}\n",
        "            ]\n",
        "            )\n",
        "            answer = response.choices[0].message['content']\n",
        "            row.append(answer)\n",
        "        results.append(row) # save results\n",
        "\n",
        "#print(print(\"Calling:\", model, \"answer:\", answer))"
      ]
    },
    {
      "cell_type": "markdown",
      "metadata": {},
      "source": [
        "# Compare the accuracy "
      ]
    },
    {
      "cell_type": "code",
      "execution_count": 45,
      "metadata": {},
      "outputs": [
        {
          "name": "stdout",
          "output_type": "stream",
          "text": [
            "([0.48, 0.0], [])\n"
          ]
        }
      ],
      "source": [
        "def calculate_accuracy(results):\n",
        "    errors = []\n",
        "    correct_count1, correct_count2 = 0, 0\n",
        "    total_samples = len(results)\n",
        "\n",
        "    for row in results:\n",
        "        _,_, true_answer, answer1, answer2= row\n",
        "\n",
        "        # Check for errors\n",
        "        if \"error occurred\" in answer1:\n",
        "            errors.append(answer1)\n",
        "        if \"error occurred\" in answer2:\n",
        "            errors.append(answer2)\n",
        "        \n",
        "\n",
        "        # Remove non-word and non-whitespace characters\n",
        "        pattern = r\"[^\\w\\s]\"\n",
        "        expected_answer1 = re.sub(pattern, \"\", answer1).strip().lower()\n",
        "        expected_answer2 = re.sub(pattern, \"\", answer2).strip().lower()\n",
        "        true_answer = true_answer.lower()\n",
        "\n",
        "        # Check for correct answers\n",
        "        if expected_answer1 == true_answer:\n",
        "            correct_count1 += 1\n",
        "        if expected_answer2 == true_answer:\n",
        "            correct_count2 += 1\n",
        "\n",
        "    # Calculate the accuracy for each model\n",
        "    accuracy1 = correct_count1 / total_samples\n",
        "    accuracy2 = correct_count2 / total_samples\n",
        "  \n",
        "    return [accuracy1, accuracy2], errors\n",
        "\n",
        "import re \n",
        "re2= calculate_accuracy(results)\n",
        "print(re2)"
      ]
    },
    {
      "cell_type": "code",
      "execution_count": 38,
      "metadata": {},
      "outputs": [
        {
          "name": "stdout",
          "output_type": "stream",
          "text": [
            "([0.014, 0.0, 0.474], [])\n"
          ]
        }
      ],
      "source": [
        "import re \n",
        "re1 = calculate_accuracy(results)\n",
        "print(re1)"
      ]
    },
    {
      "cell_type": "markdown",
      "metadata": {},
      "source": [
        " ['ollama/llama3', 'ollama/mistral',\"ollama/openchat\"] \n",
        "([0.014, 0.0, 0.474])\n",
        "import csv\n",
        "    # Write the results to a CSV file\n",
        "with open('results.csv', 'w', newline='') as csvfile:\n",
        "        writer = csv.writer(csvfile)\n",
        "        writer.writerows(results)"
      ]
    },
    {
      "cell_type": "markdown",
      "metadata": {
        "id": "RkEXhXxCDN77"
      },
      "source": [
        "## Visualizing Results"
      ]
    },
    {
      "cell_type": "code",
      "execution_count": 39,
      "metadata": {
        "colab": {
          "base_uri": "https://localhost:8080/",
          "height": 761
        },
        "id": "42hrmW6q-n4s",
        "outputId": "b763bf39-72b9-4bea-caf6-de6b2412f86d"
      },
      "outputs": [
        {
          "data": {
            "text/html": [
              "<div>\n",
              "<style scoped>\n",
              "    .dataframe tbody tr th:only-of-type {\n",
              "        vertical-align: middle;\n",
              "    }\n",
              "\n",
              "    .dataframe tbody tr th {\n",
              "        vertical-align: top;\n",
              "    }\n",
              "\n",
              "    .dataframe thead th {\n",
              "        text-align: right;\n",
              "    }\n",
              "</style>\n",
              "<table border=\"1\" class=\"dataframe\">\n",
              "  <thead>\n",
              "    <tr style=\"text-align: right;\">\n",
              "      <th></th>\n",
              "      <th>context</th>\n",
              "      <th>question</th>\n",
              "      <th>true_answer</th>\n",
              "      <th>ollama/llama3</th>\n",
              "      <th>ollama/mistral</th>\n",
              "      <th>ollama/openchat</th>\n",
              "    </tr>\n",
              "  </thead>\n",
              "  <tbody>\n",
              "    <tr>\n",
              "      <th>0</th>\n",
              "      <td>We have three blocks. Lets call them A, B and ...</td>\n",
              "      <td>Is the medium black square , above any medium ...</td>\n",
              "      <td>Yes</td>\n",
              "      <td>Let's think step by step!\\n\\nWe know that</td>\n",
              "      <td>Based on the information provided, \"No\" the</td>\n",
              "      <td>No</td>\n",
              "    </tr>\n",
              "    <tr>\n",
              "      <th>1</th>\n",
              "      <td>We have three blocks. Lets call them A, B and ...</td>\n",
              "      <td>Is there any medium yellow squares , above a s...</td>\n",
              "      <td>Yes</td>\n",
              "      <td>Let's break this down step by step!\\n\\nWe</td>\n",
              "      <td>DK. The information provided does not specify if</td>\n",
              "      <td>Yes</td>\n",
              "    </tr>\n",
              "    <tr>\n",
              "      <th>2</th>\n",
              "      <td>There are three blocks, A, B and C. Block A is...</td>\n",
              "      <td>Is there a medium black thing that is to the r...</td>\n",
              "      <td>No</td>\n",
              "      <td>I'll think step by step!\\n\\nFrom the description</td>\n",
              "      <td>DK. Based on the given information, it</td>\n",
              "      <td>Yes</td>\n",
              "    </tr>\n",
              "    <tr>\n",
              "      <th>3</th>\n",
              "      <td>There are three blocks, A, B and C. Block A is...</td>\n",
              "      <td>Is the medium blue triangle , below the medium...</td>\n",
              "      <td>Yes</td>\n",
              "      <td>A spatial reasoning puzzle! I love these.\\n\\nLet</td>\n",
              "      <td>Based on the information provided, the answer...</td>\n",
              "      <td>Yes</td>\n",
              "    </tr>\n",
              "    <tr>\n",
              "      <th>4</th>\n",
              "      <td>There are two blocks, A and B. Block A is to t...</td>\n",
              "      <td>Are all medium yellow squares , below the medi...</td>\n",
              "      <td>DK</td>\n",
              "      <td>Let's break it down step by step.\\n\\nBlock</td>\n",
              "      <td>No. Medium yellow square number two is not</td>\n",
              "      <td>Yes</td>\n",
              "    </tr>\n",
              "    <tr>\n",
              "      <th>...</th>\n",
              "      <td>...</td>\n",
              "      <td>...</td>\n",
              "      <td>...</td>\n",
              "      <td>...</td>\n",
              "      <td>...</td>\n",
              "      <td>...</td>\n",
              "    </tr>\n",
              "    <tr>\n",
              "      <th>495</th>\n",
              "      <td>We have two blocks. Lets call them A and B. Bl...</td>\n",
              "      <td>Is there a square that is to the left of a blu...</td>\n",
              "      <td>Yes</td>\n",
              "      <td>Let's break it down step by step!\\n\\nWe</td>\n",
              "      <td>Based on the information given, the answer is \"</td>\n",
              "      <td>Yes</td>\n",
              "    </tr>\n",
              "    <tr>\n",
              "      <th>496</th>\n",
              "      <td>There are three blocks, A, B and C. There is a...</td>\n",
              "      <td>Is the medium blue square , below any medium s...</td>\n",
              "      <td>Yes</td>\n",
              "      <td>I'll think step by step!\\n\\nLet's break</td>\n",
              "      <td>Based on the information provided, the answer...</td>\n",
              "      <td>Yes</td>\n",
              "    </tr>\n",
              "    <tr>\n",
              "      <th>497</th>\n",
              "      <td>There are three blocks, A, B and C. There is a...</td>\n",
              "      <td>Is there a medium object that is above a mediu...</td>\n",
              "      <td>No</td>\n",
              "      <td>A spatial reasoning puzzle!\\n\\nLet's break it ...</td>\n",
              "      <td>Based on the information provided, the answer...</td>\n",
              "      <td>Yes</td>\n",
              "    </tr>\n",
              "    <tr>\n",
              "      <th>498</th>\n",
              "      <td>We have three blocks. Lets call them A, B and ...</td>\n",
              "      <td>Is medium yellow square number one, below medi...</td>\n",
              "      <td>Yes</td>\n",
              "      <td>A spatial reasoning challenge!\\n\\nLet's break ...</td>\n",
              "      <td>Based on the information provided, the answer...</td>\n",
              "      <td>Yes</td>\n",
              "    </tr>\n",
              "    <tr>\n",
              "      <th>499</th>\n",
              "      <td>We have three blocks. Lets call them A, B and ...</td>\n",
              "      <td>Is medium yellow square number two, to the lef...</td>\n",
              "      <td>DK</td>\n",
              "      <td>Let's break it down step by step!\\n\\nWe</td>\n",
              "      <td>DK. The information provided does not explici...</td>\n",
              "      <td>DK</td>\n",
              "    </tr>\n",
              "  </tbody>\n",
              "</table>\n",
              "<p>500 rows × 6 columns</p>\n",
              "</div>"
            ],
            "text/plain": [
              "                                               context  \\\n",
              "0    We have three blocks. Lets call them A, B and ...   \n",
              "1    We have three blocks. Lets call them A, B and ...   \n",
              "2    There are three blocks, A, B and C. Block A is...   \n",
              "3    There are three blocks, A, B and C. Block A is...   \n",
              "4    There are two blocks, A and B. Block A is to t...   \n",
              "..                                                 ...   \n",
              "495  We have two blocks. Lets call them A and B. Bl...   \n",
              "496  There are three blocks, A, B and C. There is a...   \n",
              "497  There are three blocks, A, B and C. There is a...   \n",
              "498  We have three blocks. Lets call them A, B and ...   \n",
              "499  We have three blocks. Lets call them A, B and ...   \n",
              "\n",
              "                                              question true_answer  \\\n",
              "0    Is the medium black square , above any medium ...         Yes   \n",
              "1    Is there any medium yellow squares , above a s...         Yes   \n",
              "2    Is there a medium black thing that is to the r...          No   \n",
              "3    Is the medium blue triangle , below the medium...         Yes   \n",
              "4    Are all medium yellow squares , below the medi...          DK   \n",
              "..                                                 ...         ...   \n",
              "495  Is there a square that is to the left of a blu...         Yes   \n",
              "496  Is the medium blue square , below any medium s...         Yes   \n",
              "497  Is there a medium object that is above a mediu...          No   \n",
              "498  Is medium yellow square number one, below medi...         Yes   \n",
              "499  Is medium yellow square number two, to the lef...          DK   \n",
              "\n",
              "                                         ollama/llama3  \\\n",
              "0            Let's think step by step!\\n\\nWe know that   \n",
              "1            Let's break this down step by step!\\n\\nWe   \n",
              "2     I'll think step by step!\\n\\nFrom the description   \n",
              "3     A spatial reasoning puzzle! I love these.\\n\\nLet   \n",
              "4           Let's break it down step by step.\\n\\nBlock   \n",
              "..                                                 ...   \n",
              "495            Let's break it down step by step!\\n\\nWe   \n",
              "496            I'll think step by step!\\n\\nLet's break   \n",
              "497  A spatial reasoning puzzle!\\n\\nLet's break it ...   \n",
              "498  A spatial reasoning challenge!\\n\\nLet's break ...   \n",
              "499            Let's break it down step by step!\\n\\nWe   \n",
              "\n",
              "                                        ollama/mistral ollama/openchat  \n",
              "0          Based on the information provided, \"No\" the              No  \n",
              "1     DK. The information provided does not specify if             Yes  \n",
              "2               DK. Based on the given information, it             Yes  \n",
              "3     Based on the information provided, the answer...             Yes  \n",
              "4           No. Medium yellow square number two is not             Yes  \n",
              "..                                                 ...             ...  \n",
              "495    Based on the information given, the answer is \"             Yes  \n",
              "496   Based on the information provided, the answer...             Yes  \n",
              "497   Based on the information provided, the answer...             Yes  \n",
              "498   Based on the information provided, the answer...             Yes  \n",
              "499   DK. The information provided does not explici...              DK  \n",
              "\n",
              "[500 rows x 6 columns]"
            ]
          },
          "execution_count": 39,
          "metadata": {},
          "output_type": "execute_result"
        }
      ],
      "source": [
        "# Create a table to visualize results\n",
        "import pandas as pd\n",
        "\n",
        "columns = [\"context\", \"question\",\"true_answer\"] + models\n",
        "df = pd.DataFrame(results, columns=columns)\n",
        "\n",
        "df"
      ]
    }
  ],
  "metadata": {
    "colab": {
      "provenance": []
    },
    "kernelspec": {
      "display_name": "Python 3",
      "name": "python3"
    },
    "language_info": {
      "codemirror_mode": {
        "name": "ipython",
        "version": 3
      },
      "file_extension": ".py",
      "mimetype": "text/x-python",
      "name": "python",
      "nbconvert_exporter": "python",
      "pygments_lexer": "ipython3",
      "version": "3.12.3"
    }
  },
  "nbformat": 4,
  "nbformat_minor": 0
}
